{
 "cells": [
  {
   "cell_type": "markdown",
   "metadata": {},
   "source": [
    "The first step is to import the libraries and set the OpenAI API key and endpoint. You'll need to set the following environment variables:\n",
    "\n",
    "- `AZURE_OPENAI_API_KEY` - Your OpenAI API key\n",
    "- `AZURE_OPENAI_ENDPOINT` - Your OpenAI endpoint\n",
    "- `AZURE_COG_SEARCH_API_KEY` - Your Azure Cognitive Search API key\n",
    "- `AZURE_COG_SEARCH_ENDPOINT` - Your Azure Cognitive Search endpoint"
   ]
  },
  {
   "cell_type": "code",
   "execution_count": null,
   "metadata": {},
   "outputs": [],
   "source": [
    "import os\n",
    "import httpx\n",
    "import pandas as pd\n",
    "import openai\n",
    "from openai.embeddings_utils import get_embedding\n",
    "\n",
    "\n",
    "AZURE_COG_SEARCH_API_KEY = os.environ[\"AZURE_COG_SEARCH_API_KEY\"]\n",
    "AZURE_COG_SEARCH_SERVICE_NAME = os.environ[\"AZURE_COG_SEARCH_SERVICE_NAME\"]\n",
    "AZURE_COG_SEARCH_API_VERSION = \"2023-07-01-Preview\"\n",
    "AZURE_COG_SEARCH_INDEX_NAME = \"product-catalog-index\"\n",
    "\n",
    "\n",
    "openai.api_type = \"azure\"\n",
    "openai.api_key = os.environ[\"AZURE_OPENAI_API_KEY\"]\n",
    "openai.api_base = os.environ[\"AZURE_OPENAI_ENDPOINT\"]\n",
    "openai.api_version = \"2023-07-01-preview\"\n",
    "\n",
    "OPENAI_EMBEDDING_ENGINE = \"text-embedding-ada-002\"\n",
    "\n",
    "OPENAI_EMBEDDING_DEPLOYMENT_NAME = os.environ[\n",
    "    \"AZURE_OPENAI_EMBEDDING_MODEL_DEPLOYMENT_NAME\"\n",
    "]"
   ]
  },
  {
   "cell_type": "markdown",
   "metadata": {},
   "source": [
    "Next, we are going to create a function called `search` that will search the Embedding Index for the query. The function works as follows:\n",
    "\n",
    "\n",
    "1. First, the Embedding for the query is calculated using the OpenAI Embedding API.\n",
    "2. Post the data to the Azure OpenAI Service to search the Embedding Index.\n",
    "3. Return the results."
   ]
  },
  {
   "cell_type": "code",
   "execution_count": null,
   "metadata": {},
   "outputs": [],
   "source": [
    "def search(query: str, rows: int):\n",
    "    # get the embeddings for the query\n",
    "    query_embeddings = get_embedding(query, OPENAI_EMBEDDING_ENGINE)\n",
    "\n",
    "    request = {\n",
    "        \"vector\": {\n",
    "            \"value\": query_embeddings,\n",
    "            \"fields\": \"contentVector\",\n",
    "            \"k\": 5,\n",
    "        },\n",
    "        \"select\": \"title, content, category\",\n",
    "    }\n",
    "\n",
    "    url = (\n",
    "        f\"https://{AZURE_COG_SEARCH_SERVICE_NAME}.search.windows.net/indexes/{AZURE_COG_SEARCH_INDEX_NAME}\"\n",
    "        f\"/docs/search?api-version={AZURE_COG_SEARCH_API_VERSION}\"\n",
    "    )\n",
    "\n",
    "    headers = {\n",
    "        \"Content-Type\": \"application/json\",\n",
    "        \"api-key\": AZURE_COG_SEARCH_API_KEY,\n",
    "    }\n",
    "\n",
    "    response = httpx.post(url, json=request, headers=headers)\n",
    "    response.raise_for_status()\n",
    "\n",
    "    # get the results\n",
    "    results = response.json()[\"value\"]\n",
    "\n",
    "    # return the top rows\n",
    "    return results"
   ]
  },
  {
   "cell_type": "markdown",
   "metadata": {},
   "source": [
    "This function is very simple, it just prints out the results of the search query."
   ]
  },
  {
   "cell_type": "code",
   "execution_count": null,
   "metadata": {},
   "outputs": [],
   "source": [
    "def display_results(results: list, query: str):\n",
    "    print(f\"\\nQuery: '{query}':\\n\")\n",
    "    for result in results:\n",
    "        print(f\" - {result['title']}\")\n",
    "        print(f\"   search.score: {result['@search.score']}\")\n",
    "        print(f\"   content: {result['content']}\")"
   ]
  },
  {
   "cell_type": "markdown",
   "metadata": {},
   "source": [
    "\n",
    "1. First, the user is prompted to enter a query.\n",
    "2. Then the `search` function is called to search the Embedding Index for the query.\n",
    "3. Finally, the `display_results` function is called to display the results to the user.\n",
    "4. The user is then prompted to enter another query. This process continues until the user enters `exit`.\n",
    "\n",
    "![](media/notebook_search.png)\n",
    "\n",
    "You will be prompted to enter a query. Enter a query and press enter. The application will return a product list relevant to the query.\n",
    "\n",
    "Here are some queries to try out:\n",
    "\n",
    "- What is azure devops?\n",
    "- How to use Azure Blueprints?\n",
    "- Getting started with Azure Synapse and HDInsight"
   ]
  },
  {
   "cell_type": "code",
   "execution_count": null,
   "metadata": {},
   "outputs": [],
   "source": [
    "# get user query from imput\n",
    "while True:\n",
    "    query = input(\"Enter a query: \")\n",
    "    if query == \"exit\":\n",
    "        break\n",
    "    results = search(query, 5)\n",
    "    display_results(results, query)"
   ]
  },
  {
   "cell_type": "markdown",
   "metadata": {},
   "source": []
  }
 ],
 "metadata": {
  "kernelspec": {
   "display_name": "venv",
   "language": "python",
   "name": "python3"
  },
  "language_info": {
   "codemirror_mode": {
    "name": "ipython",
    "version": 3
   },
   "file_extension": ".py",
   "mimetype": "text/x-python",
   "name": "python",
   "nbconvert_exporter": "python",
   "pygments_lexer": "ipython3",
   "version": "3.11.6"
  }
 },
 "nbformat": 4,
 "nbformat_minor": 2
}
