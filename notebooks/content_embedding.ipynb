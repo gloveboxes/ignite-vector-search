{
 "cells": [
  {
   "cell_type": "markdown",
   "metadata": {},
   "source": [
    "The first step is to import the libraries and set the OpenAI API key and endpoint. You'll need to set the following environment variables:\n",
    "\n",
    "- `AZURE_OPENAI_API_KEY` - Your OpenAI API key\n",
    "- `AZURE_OPENAI_ENDPOINT` - Your OpenAI endpoint\n",
    "- `AZURE_COG_SEARCH_API_KEY` - Your Azure Cognitive Search API key\n",
    "- `AZURE_COG_SEARCH_ENDPOINT` - Your Azure Cognitive Search endpoint"
   ]
  },
  {
   "cell_type": "code",
   "execution_count": null,
   "metadata": {},
   "outputs": [],
   "source": [
    "import os\n",
    "import openai\n",
    "from openai.embeddings_utils import get_embedding\n",
    "\n",
    "\n",
    "AZURE_COG_SEARCH_API_KEY = os.environ[\"AZURE_COG_SEARCH_API_KEY\"]\n",
    "AZURE_COG_SEARCH_SERVICE_NAME = os.environ[\"AZURE_COG_SEARCH_SERVICE_NAME\"]\n",
    "AZURE_COG_SEARCH_API_VERSION = \"2023-07-01-Preview\"\n",
    "AZURE_COG_SEARCH_INDEX_NAME = \"product-catalog-index\"\n",
    "\n",
    "\n",
    "openai.api_type = \"azure\"\n",
    "openai.api_key = os.environ[\"AZURE_OPENAI_API_KEY\"]\n",
    "openai.api_base = os.environ[\"AZURE_OPENAI_ENDPOINT\"]\n",
    "openai.api_version = \"2023-07-01-preview\"\n",
    "\n",
    "OPENAI_EMBEDDING_ENGINE = \"text-embedding-ada-002\"\n",
    "\n",
    "OPENAI_EMBEDDING_DEPLOYMENT_NAME = os.environ[\n",
    "    \"AZURE_OPENAI_EMBEDDING_MODEL_DEPLOYMENT_NAME\"\n",
    "]"
   ]
  },
  {
   "cell_type": "markdown",
   "metadata": {},
   "source": [
    "The foloowing is an example of creating an embedding for a piece of text. You would typically chunk your text into smaller pieces and create embeddings for each piece and then store them in Azure Cognitive Search along with the text for a reference to the original text."
   ]
  },
  {
   "cell_type": "code",
   "execution_count": null,
   "metadata": {},
   "outputs": [],
   "source": [
    "content = (\n",
    "    \"Azure App Service is a fully managed platform for building, deploying, and scaling web apps. \"\n",
    "    \"You can host web apps, mobile app backends, and RESTful APIs. It supports a variety of programming languages and frameworks,\"\n",
    "    \" such as .NET, Java, Node.js, Python, and PHP. The service offers built-in auto-scaling and load balancing capabilities. \"\n",
    "    \"It also provides integration with other Azure services, such as Azure DevOps, GitHub, and Bitbucket.\"\n",
    ")\n",
    "\n",
    "query_embeddings = get_embedding(content, OPENAI_EMBEDDING_ENGINE)\n",
    "\n",
    "print(\"\\n\".join(map(str, query_embeddings[:100])))\n"
   ]
  }
 ],
 "metadata": {
  "kernelspec": {
   "display_name": "venv",
   "language": "python",
   "name": "python3"
  },
  "language_info": {
   "codemirror_mode": {
    "name": "ipython",
    "version": 3
   },
   "file_extension": ".py",
   "mimetype": "text/x-python",
   "name": "python",
   "nbconvert_exporter": "python",
   "pygments_lexer": "ipython3",
   "version": "3.11.6"
  }
 },
 "nbformat": 4,
 "nbformat_minor": 2
}
