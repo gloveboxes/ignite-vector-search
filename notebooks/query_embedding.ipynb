{
 "cells": [
  {
   "cell_type": "markdown",
   "metadata": {},
   "source": [
    "The first step is to import the libraries and set the OpenAI API key and endpoint. You'll need to set the following environment variables:\n",
    "\n",
    "- `AZURE_OPENAI_API_KEY` - Your OpenAI API key\n",
    "- `AZURE_OPENAI_ENDPOINT` - Your OpenAI endpoint\n",
    "- `AZURE_OPENAI_EMBEDDING_MODEL_DEPLOYMENT_NAME` - Your Azure OpenAI Embedding model deployment name\n",
    "- `AZURE_COG_SEARCH_API_KEY` - Your Azure Cognitive Search API key\n",
    "- `AZURE_COG_SEARCH_ENDPOINT` - Your Azure Cognitive Search endpoint"
   ]
  },
  {
   "cell_type": "code",
   "execution_count": null,
   "metadata": {},
   "outputs": [],
   "source": [
    "import os\n",
    "from dotenv import load_dotenv\n",
    "import httpx\n",
    "import openai\n",
    "from openai.embeddings_utils import get_embedding\n",
    "\n",
    "load_dotenv()\n",
    "\n",
    "AZURE_COG_SEARCH_API_KEY = os.environ[\"AZURE_COG_SEARCH_API_KEY\"]\n",
    "AZURE_COG_SEARCH_SERVICE_NAME = os.environ[\"AZURE_COG_SEARCH_SERVICE_NAME\"]\n",
    "AZURE_COG_SEARCH_API_VERSION = \"2023-07-01-Preview\"\n",
    "AZURE_COG_SEARCH_INDEX_NAME = \"product-catalog-index\"\n",
    "\n",
    "\n",
    "openai.api_type = \"azure\"\n",
    "openai.api_key = os.environ[\"AZURE_OPENAI_API_KEY\"]\n",
    "openai.api_base = os.environ[\"AZURE_OPENAI_ENDPOINT\"]\n",
    "openai.api_version = \"2023-07-01-preview\"\n",
    "\n",
    "OPENAI_EMBEDDING_ENGINE = \"text-embedding-ada-002\"\n",
    "\n",
    "OPENAI_EMBEDDING_DEPLOYMENT_NAME = os.environ[\n",
    "    \"AZURE_OPENAI_EMBEDDING_MODEL_DEPLOYMENT_NAME\"\n",
    "]"
   ]
  },
  {
   "cell_type": "code",
   "execution_count": null,
   "metadata": {},
   "outputs": [],
   "source": [
    "# pretty print the list of results\n",
    "def pretty_print(results):\n",
    "\n",
    "    for result in results:\n",
    "        print(f\"{result['title']} ({result['category']}) ({result['@search.score']})\")\n",
    "        print(f\"{result['content'][:200]}...\")\n",
    "        print()"
   ]
  },
  {
   "cell_type": "markdown",
   "metadata": {},
   "source": [
    "Get the embedding for the query. The query must be embedded before it can be used in a search query and it must be embedded using the same model that was used to embed the documents."
   ]
  },
  {
   "cell_type": "code",
   "execution_count": null,
   "metadata": {},
   "outputs": [],
   "source": [
    "query = \"getting started with azure search\"\n",
    "\n",
    "query_embeddings = get_embedding(query, OPENAI_EMBEDDING_ENGINE)"
   ]
  },
  {
   "cell_type": "code",
   "execution_count": null,
   "metadata": {},
   "outputs": [],
   "source": [
    "# Query the Azure Cognitive Search index using the REST API\n",
    "\n",
    "request = {\n",
    "    \"vector\": {\n",
    "        \"value\": query_embeddings,\n",
    "        \"fields\": \"contentVector\",\n",
    "        \"k\": 5,\n",
    "    },\n",
    "    \"select\": \"title, content, category\",\n",
    "}\n",
    "\n",
    "url = (\n",
    "    f\"https://{AZURE_COG_SEARCH_SERVICE_NAME}.search.windows.net/indexes/{AZURE_COG_SEARCH_INDEX_NAME}\"\n",
    "    f\"/docs/search?api-version={AZURE_COG_SEARCH_API_VERSION}\"\n",
    ")\n",
    "\n",
    "headers = {\n",
    "    \"Content-Type\": \"application/json\",\n",
    "    \"api-key\": AZURE_COG_SEARCH_API_KEY,\n",
    "}\n",
    "\n",
    "response = httpx.post(url, json=request, headers=headers)\n",
    "response.raise_for_status()\n",
    "\n",
    "results = response.json()[\"value\"]\n",
    "\n",
    "pretty_print(results)"
   ]
  },
  {
   "cell_type": "code",
   "execution_count": null,
   "metadata": {},
   "outputs": [],
   "source": [
    "# Constrain results using a filter query\n",
    "\n",
    "request = {\n",
    "    \"vector\": {\n",
    "        \"value\": query_embeddings,\n",
    "        \"fields\": \"contentVector\",\n",
    "        \"k\": 5,\n",
    "    },\n",
    "    \"select\": \"title, content, category\",\n",
    "    \"filter\": \"category eq 'Analytics'\"\n",
    "}\n",
    "\n",
    "url = (\n",
    "    f\"https://{AZURE_COG_SEARCH_SERVICE_NAME}.search.windows.net/indexes/{AZURE_COG_SEARCH_INDEX_NAME}\"\n",
    "    f\"/docs/search?api-version={AZURE_COG_SEARCH_API_VERSION}\"\n",
    ")\n",
    "\n",
    "headers = {\n",
    "    \"Content-Type\": \"application/json\",\n",
    "    \"api-key\": AZURE_COG_SEARCH_API_KEY,\n",
    "}\n",
    "\n",
    "response = httpx.post(url, json=request, headers=headers)\n",
    "response.raise_for_status()\n",
    "\n",
    "results = response.json()[\"value\"]\n",
    "\n",
    "pretty_print(results)"
   ]
  }
 ],
 "metadata": {
  "kernelspec": {
   "display_name": "venv",
   "language": "python",
   "name": "python3"
  },
  "language_info": {
   "codemirror_mode": {
    "name": "ipython",
    "version": 3
   },
   "file_extension": ".py",
   "mimetype": "text/x-python",
   "name": "python",
   "nbconvert_exporter": "python",
   "pygments_lexer": "ipython3",
   "version": "3.11.6"
  }
 },
 "nbformat": 4,
 "nbformat_minor": 2
}
